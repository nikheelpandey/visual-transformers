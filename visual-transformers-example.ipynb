{
 "cells": [
  {
   "cell_type": "code",
   "execution_count": 1,
   "metadata": {
    "_cell_guid": "b1076dfc-b9ad-4769-8c92-a6c4dae69d19",
    "_uuid": "8f2839f25d086af736a60e9eeb907d3b93b6e0e5",
    "execution": {
     "iopub.execute_input": "2021-01-10T09:22:20.224234Z",
     "iopub.status.busy": "2021-01-10T09:22:20.223477Z",
     "iopub.status.idle": "2021-01-10T09:22:30.745942Z",
     "shell.execute_reply": "2021-01-10T09:22:30.745206Z"
    },
    "papermill": {
     "duration": 10.54102,
     "end_time": "2021-01-10T09:22:30.746073",
     "exception": false,
     "start_time": "2021-01-10T09:22:20.205053",
     "status": "completed"
    },
    "tags": []
   },
   "outputs": [
    {
     "name": "stdout",
     "output_type": "stream",
     "text": [
      "Collecting linformer\r\n",
      "  Downloading linformer-0.2.1-py3-none-any.whl (6.1 kB)\r\n",
      "Requirement already satisfied: torch in /opt/conda/lib/python3.7/site-packages (from linformer) (1.7.0)\r\n",
      "Collecting vit-pytorch\r\n",
      "  Downloading vit_pytorch-0.6.5-py3-none-any.whl (6.1 kB)\r\n",
      "Requirement already satisfied: torch in /opt/conda/lib/python3.7/site-packages (from linformer) (1.7.0)\r\n",
      "Collecting einops>=0.3\r\n",
      "  Downloading einops-0.3.0-py2.py3-none-any.whl (25 kB)\r\n",
      "Requirement already satisfied: future in /opt/conda/lib/python3.7/site-packages (from torch->linformer) (0.18.2)\r\n",
      "Requirement already satisfied: typing_extensions in /opt/conda/lib/python3.7/site-packages (from torch->linformer) (3.7.4.1)\r\n",
      "Requirement already satisfied: dataclasses in /opt/conda/lib/python3.7/site-packages (from torch->linformer) (0.6)\r\n",
      "Requirement already satisfied: numpy in /opt/conda/lib/python3.7/site-packages (from torch->linformer) (1.18.5)\r\n",
      "Installing collected packages: einops, vit-pytorch, linformer\r\n",
      "Successfully installed einops-0.3.0 linformer-0.2.1 vit-pytorch-0.6.5\r\n",
      "\u001b[33mWARNING: You are using pip version 20.3.1; however, version 20.3.3 is available.\r\n",
      "You should consider upgrading via the '/opt/conda/bin/python3.7 -m pip install --upgrade pip' command.\u001b[0m\r\n"
     ]
    }
   ],
   "source": [
    "import numpy as np # linear algebra\n",
    "import pandas as pd # data processing, CSV file I/O (e.g. pd.read_csv)\n",
    "import os\n",
    "import matplotlib.pyplot as plt \n",
    "\n",
    "!pip3 install vit-pytorch linformer"
   ]
  },
  {
   "cell_type": "code",
   "execution_count": 2,
   "metadata": {
    "_cell_guid": "79c7e3d0-c299-4dcb-8224-4455121ee9b0",
    "_uuid": "d629ff2d2480ee46fbb7e2d37f6b5fab8052498a",
    "execution": {
     "iopub.execute_input": "2021-01-10T09:22:30.778781Z",
     "iopub.status.busy": "2021-01-10T09:22:30.777963Z",
     "iopub.status.idle": "2021-01-10T09:22:33.389873Z",
     "shell.execute_reply": "2021-01-10T09:22:33.389325Z"
    },
    "papermill": {
     "duration": 2.630606,
     "end_time": "2021-01-10T09:22:33.389994",
     "exception": false,
     "start_time": "2021-01-10T09:22:30.759388",
     "status": "completed"
    },
    "tags": []
   },
   "outputs": [],
   "source": [
    "from linformer import Linformer\n",
    "import glob\n",
    "from PIL import Image\n",
    "from itertools import chain\n",
    "from vit_pytorch.efficient import ViT\n",
    "from tqdm.notebook import tqdm \n",
    "from sklearn.model_selection import train_test_split  \n",
    "\n",
    "import torch \n",
    "import torch.nn as nn\n",
    "import torch.optim as optim \n",
    "import torch.nn.functional as F\n",
    "from torchvision import datasets, transforms \n",
    "from torch.optim.lr_scheduler import StepLR\n",
    "from torch.utils.data import DataLoader,Dataset"
   ]
  },
  {
   "cell_type": "code",
   "execution_count": 3,
   "metadata": {
    "execution": {
     "iopub.execute_input": "2021-01-10T09:22:33.420735Z",
     "iopub.status.busy": "2021-01-10T09:22:33.420050Z",
     "iopub.status.idle": "2021-01-10T09:22:33.427454Z",
     "shell.execute_reply": "2021-01-10T09:22:33.426947Z"
    },
    "papermill": {
     "duration": 0.025082,
     "end_time": "2021-01-10T09:22:33.427546",
     "exception": false,
     "start_time": "2021-01-10T09:22:33.402464",
     "status": "completed"
    },
    "tags": []
   },
   "outputs": [],
   "source": [
    "seed = 2021\n",
    "os.environ['PYTHONHASHSEED'] = str(seed)\n",
    "np.random.seed(seed)\n",
    "torch.manual_seed(seed)\n",
    "torch.cuda.manual_seed(seed)\n",
    "torch.cuda.manual_seed_all(seed)\n",
    "torch.backends.cudnn.deterministic = True"
   ]
  },
  {
   "cell_type": "code",
   "execution_count": 4,
   "metadata": {
    "execution": {
     "iopub.execute_input": "2021-01-10T09:22:33.457539Z",
     "iopub.status.busy": "2021-01-10T09:22:33.456983Z",
     "iopub.status.idle": "2021-01-10T09:22:33.933084Z",
     "shell.execute_reply": "2021-01-10T09:22:33.932404Z"
    },
    "papermill": {
     "duration": 0.493609,
     "end_time": "2021-01-10T09:22:33.933224",
     "exception": false,
     "start_time": "2021-01-10T09:22:33.439615",
     "status": "completed"
    },
    "tags": []
   },
   "outputs": [
    {
     "name": "stdout",
     "output_type": "stream",
     "text": [
      "total training samples:  8005\n",
      "total testing  samples:  2023\n"
     ]
    }
   ],
   "source": [
    "train_dir = \"/kaggle/input/cat-and-dog/training_set/training_set/\"\n",
    "\n",
    "test_dir = \"/kaggle/input/cat-and-dog/test_set/test_set/\"\n",
    "\n",
    "training_samples = glob.glob(train_dir+\"/**/*.jpg\")\n",
    "testing_samples  = glob.glob(test_dir+\"/**/*.jpg\")\n",
    "\n",
    "labels = [path.split('/')[-1].split('.')[0] for path in training_samples]\n",
    "\n",
    "\n",
    "print(\"total training samples: \",len(training_samples))\n",
    "print(\"total testing  samples: \",len(testing_samples))\n"
   ]
  },
  {
   "cell_type": "code",
   "execution_count": 5,
   "metadata": {
    "execution": {
     "iopub.execute_input": "2021-01-10T09:22:33.967635Z",
     "iopub.status.busy": "2021-01-10T09:22:33.966996Z",
     "iopub.status.idle": "2021-01-10T09:22:33.979101Z",
     "shell.execute_reply": "2021-01-10T09:22:33.979538Z"
    },
    "papermill": {
     "duration": 0.033156,
     "end_time": "2021-01-10T09:22:33.979652",
     "exception": false,
     "start_time": "2021-01-10T09:22:33.946496",
     "status": "completed"
    },
    "tags": []
   },
   "outputs": [],
   "source": [
    "train, val = train_test_split(training_samples, test_size = 0.25, stratify=labels,\n",
    "                                          random_state=seed)"
   ]
  },
  {
   "cell_type": "code",
   "execution_count": 6,
   "metadata": {
    "execution": {
     "iopub.execute_input": "2021-01-10T09:22:34.009383Z",
     "iopub.status.busy": "2021-01-10T09:22:34.008629Z",
     "iopub.status.idle": "2021-01-10T09:22:34.012522Z",
     "shell.execute_reply": "2021-01-10T09:22:34.013081Z"
    },
    "papermill": {
     "duration": 0.02085,
     "end_time": "2021-01-10T09:22:34.013196",
     "exception": false,
     "start_time": "2021-01-10T09:22:33.992346",
     "status": "completed"
    },
    "tags": []
   },
   "outputs": [
    {
     "name": "stdout",
     "output_type": "stream",
     "text": [
      "Training samples: 6003\n",
      "Validation samples: 2002\n"
     ]
    }
   ],
   "source": [
    "print(f\"Training samples: {len(train)}\")\n",
    "print(f\"Validation samples: {len(val)}\")"
   ]
  },
  {
   "cell_type": "code",
   "execution_count": 7,
   "metadata": {
    "execution": {
     "iopub.execute_input": "2021-01-10T09:22:34.048547Z",
     "iopub.status.busy": "2021-01-10T09:22:34.047805Z",
     "iopub.status.idle": "2021-01-10T09:22:34.050954Z",
     "shell.execute_reply": "2021-01-10T09:22:34.050449Z"
    },
    "papermill": {
     "duration": 0.024551,
     "end_time": "2021-01-10T09:22:34.051049",
     "exception": false,
     "start_time": "2021-01-10T09:22:34.026498",
     "status": "completed"
    },
    "tags": []
   },
   "outputs": [],
   "source": [
    "# image augmentation \n",
    "\n",
    "train_aug = transforms.Compose(\n",
    "        [\n",
    "            transforms.Resize((224,224)),\n",
    "            transforms.RandomResizedCrop(224),\n",
    "            transforms.RandomHorizontalFlip(),\n",
    "            transforms.ToTensor(),\n",
    "            \n",
    "        ]\n",
    "        )\n",
    "\n",
    "\n",
    "val_aug = transforms.Compose(\n",
    "        [\n",
    "            transforms.Resize((224,224)),\n",
    "            transforms.RandomResizedCrop(224),\n",
    "            transforms.RandomHorizontalFlip(),\n",
    "            transforms.ToTensor(),\n",
    "            \n",
    "        ]\n",
    "        )\n",
    "test_aug = transforms.Compose(\n",
    "        [\n",
    "            transforms.Resize((224,224)),\n",
    "            transforms.RandomResizedCrop(224),\n",
    "            transforms.RandomHorizontalFlip(),\n",
    "            transforms.ToTensor(),\n",
    "            \n",
    "        ]\n",
    "        )"
   ]
  },
  {
   "cell_type": "code",
   "execution_count": 8,
   "metadata": {
    "execution": {
     "iopub.execute_input": "2021-01-10T09:22:34.089392Z",
     "iopub.status.busy": "2021-01-10T09:22:34.088586Z",
     "iopub.status.idle": "2021-01-10T09:22:34.090911Z",
     "shell.execute_reply": "2021-01-10T09:22:34.091378Z"
    },
    "papermill": {
     "duration": 0.027228,
     "end_time": "2021-01-10T09:22:34.091493",
     "exception": false,
     "start_time": "2021-01-10T09:22:34.064265",
     "status": "completed"
    },
    "tags": []
   },
   "outputs": [],
   "source": [
    "class DatasetLoader(Dataset):\n",
    "    \n",
    "    def __init__(self,files, transform=None):\n",
    "        self.files = files\n",
    "        self.transform = transform\n",
    "        \n",
    "    def __len__(self):\n",
    "        self.file_len = len(self.files)\n",
    "        return self.file_len\n",
    "    \n",
    "    def __getitem__(self,ids):\n",
    "        img_path = self.files[ids]\n",
    "        img = Image.open(img_path)\n",
    "        augmented_img = self.transform(img)\n",
    "        label = img_path.split(\"/\")[-1].split(\".\")[0]\n",
    "        label = 1 if label == \"dog\" else 0\n",
    "        return augmented_img, label\n",
    "    \n",
    "    \n",
    "\n",
    "    \n",
    "train_ = DatasetLoader(train, train_aug)\n",
    "val_   = DatasetLoader(val, val_aug)\n",
    "test_  = DatasetLoader(testing_samples, test_aug)\n",
    "\n",
    "\n",
    "batch_size = 256\n",
    "train_loader = DataLoader(dataset = train_, batch_size=batch_size, shuffle=True )\n",
    "valid_loader = DataLoader(dataset = val_, batch_size=batch_size, shuffle=True)\n",
    "test_loader = DataLoader(dataset = test_, batch_size=batch_size, shuffle=True)"
   ]
  },
  {
   "cell_type": "code",
   "execution_count": 9,
   "metadata": {
    "execution": {
     "iopub.execute_input": "2021-01-10T09:22:34.123005Z",
     "iopub.status.busy": "2021-01-10T09:22:34.122321Z",
     "iopub.status.idle": "2021-01-10T09:22:34.193693Z",
     "shell.execute_reply": "2021-01-10T09:22:34.193195Z"
    },
    "papermill": {
     "duration": 0.088679,
     "end_time": "2021-01-10T09:22:34.193800",
     "exception": false,
     "start_time": "2021-01-10T09:22:34.105121",
     "status": "completed"
    },
    "tags": []
   },
   "outputs": [],
   "source": [
    "linear_transformer = Linformer(\n",
    "    dim=128,\n",
    "    seq_len=49+1,  # 7x7 patches + 1 cls-token\n",
    "    depth=12,\n",
    "    heads=8,\n",
    "    k=64\n",
    ")"
   ]
  },
  {
   "cell_type": "code",
   "execution_count": 10,
   "metadata": {
    "execution": {
     "iopub.execute_input": "2021-01-10T09:22:34.227920Z",
     "iopub.status.busy": "2021-01-10T09:22:34.227332Z",
     "iopub.status.idle": "2021-01-10T09:22:39.369483Z",
     "shell.execute_reply": "2021-01-10T09:22:39.368944Z"
    },
    "papermill": {
     "duration": 5.162025,
     "end_time": "2021-01-10T09:22:39.369601",
     "exception": false,
     "start_time": "2021-01-10T09:22:34.207576",
     "status": "completed"
    },
    "tags": []
   },
   "outputs": [],
   "source": [
    "\n",
    "epochs = 20\n",
    "lr = 3e-5\n",
    "gamma = 0.7\n",
    "\n",
    "model = ViT(\n",
    "    dim=128,\n",
    "    image_size=224,\n",
    "    patch_size=32,\n",
    "    num_classes=2,\n",
    "    transformer=linear_transformer,\n",
    "    channels=3,\n",
    ").to('cuda')"
   ]
  },
  {
   "cell_type": "code",
   "execution_count": 11,
   "metadata": {
    "execution": {
     "iopub.execute_input": "2021-01-10T09:22:39.406910Z",
     "iopub.status.busy": "2021-01-10T09:22:39.406169Z",
     "iopub.status.idle": "2021-01-10T09:22:39.409576Z",
     "shell.execute_reply": "2021-01-10T09:22:39.409092Z"
    },
    "papermill": {
     "duration": 0.025696,
     "end_time": "2021-01-10T09:22:39.409691",
     "exception": false,
     "start_time": "2021-01-10T09:22:39.383995",
     "status": "completed"
    },
    "tags": []
   },
   "outputs": [],
   "source": [
    "# loss\n",
    "loss_func = nn.CrossEntropyLoss()\n",
    "# optimizer \n",
    "optimizer = optim.Adam(model.parameters(),lr = lr)\n",
    "# scheduler\n",
    "scheduler = StepLR(optimizer, step_size=1, gamma=gamma)"
   ]
  },
  {
   "cell_type": "code",
   "execution_count": 12,
   "metadata": {
    "execution": {
     "iopub.execute_input": "2021-01-10T09:22:39.451972Z",
     "iopub.status.busy": "2021-01-10T09:22:39.450222Z",
     "iopub.status.idle": "2021-01-10T09:41:27.690313Z",
     "shell.execute_reply": "2021-01-10T09:41:27.691067Z"
    },
    "papermill": {
     "duration": 1128.267646,
     "end_time": "2021-01-10T09:41:27.691222",
     "exception": false,
     "start_time": "2021-01-10T09:22:39.423576",
     "status": "completed"
    },
    "tags": []
   },
   "outputs": [
    {
     "name": "stdout",
     "output_type": "stream",
     "text": [
      "Epoch : 1 - loss : 0.7335 - acc: 0.4909 - val_loss : 0.6986 - val_acc: 0.5001\n",
      "\n",
      "Epoch : 2 - loss : 0.6946 - acc: 0.4877 - val_loss : 0.6929 - val_acc: 0.5336\n",
      "\n",
      "Epoch : 3 - loss : 0.6935 - acc: 0.5058 - val_loss : 0.6967 - val_acc: 0.4998\n",
      "\n",
      "Epoch : 4 - loss : 0.6948 - acc: 0.4974 - val_loss : 0.6925 - val_acc: 0.5318\n",
      "\n",
      "Epoch : 5 - loss : 0.6951 - acc: 0.5106 - val_loss : 0.6925 - val_acc: 0.5247\n",
      "\n",
      "Epoch : 6 - loss : 0.6943 - acc: 0.5006 - val_loss : 0.6918 - val_acc: 0.5356\n",
      "\n",
      "Epoch : 7 - loss : 0.6935 - acc: 0.5060 - val_loss : 0.6919 - val_acc: 0.5440\n",
      "\n",
      "Epoch : 8 - loss : 0.6925 - acc: 0.5150 - val_loss : 0.6925 - val_acc: 0.4886\n",
      "\n",
      "Epoch : 9 - loss : 0.6921 - acc: 0.5173 - val_loss : 0.6921 - val_acc: 0.5259\n",
      "\n",
      "Epoch : 10 - loss : 0.6915 - acc: 0.5235 - val_loss : 0.6927 - val_acc: 0.4971\n",
      "\n",
      "Epoch : 11 - loss : 0.6919 - acc: 0.5194 - val_loss : 0.6912 - val_acc: 0.5347\n",
      "\n",
      "Epoch : 12 - loss : 0.6917 - acc: 0.5239 - val_loss : 0.6914 - val_acc: 0.4994\n",
      "\n",
      "Epoch : 13 - loss : 0.6911 - acc: 0.5154 - val_loss : 0.6930 - val_acc: 0.4908\n",
      "\n",
      "Epoch : 14 - loss : 0.6910 - acc: 0.5312 - val_loss : 0.6931 - val_acc: 0.4932\n",
      "\n",
      "Epoch : 15 - loss : 0.6919 - acc: 0.5123 - val_loss : 0.6906 - val_acc: 0.5267\n",
      "\n",
      "Epoch : 16 - loss : 0.6913 - acc: 0.5274 - val_loss : 0.6908 - val_acc: 0.5118\n",
      "\n",
      "Epoch : 17 - loss : 0.6906 - acc: 0.5254 - val_loss : 0.6904 - val_acc: 0.5232\n",
      "\n",
      "Epoch : 18 - loss : 0.6906 - acc: 0.5370 - val_loss : 0.6886 - val_acc: 0.5305\n",
      "\n",
      "Epoch : 19 - loss : 0.6875 - acc: 0.5432 - val_loss : 0.6896 - val_acc: 0.5259\n",
      "\n",
      "Epoch : 20 - loss : 0.6919 - acc: 0.5276 - val_loss : 0.6881 - val_acc: 0.5429\n",
      "\n"
     ]
    }
   ],
   "source": [
    "# training the visual transformer\n",
    "\n",
    "for epoch in range(epochs):\n",
    "    \n",
    "    epoch_loss = 0\n",
    "    epoch_accuracy = 0\n",
    "    \n",
    "    for data, label in (train_loader):\n",
    "        \n",
    "        data = data.to('cuda')\n",
    "        label = label.to('cuda')\n",
    "        \n",
    "        output = model(data)\n",
    "        loss   = loss_func(output,label)\n",
    "        \n",
    "        optimizer.zero_grad()\n",
    "        loss.backward()\n",
    "        optimizer.step()\n",
    "        \n",
    "        acc = (output.argmax(dim=1)==label).float().mean()\n",
    "        \n",
    "        epoch_accuracy += acc/len(train_loader)\n",
    "        epoch_loss += loss/len(train_loader)\n",
    "        \n",
    "    with torch.no_grad():\n",
    "        epoch_val_accuracy = 0\n",
    "        epoch_val_loss = 0\n",
    "        \n",
    "        for data, label in valid_loader:\n",
    "            data = data.to('cuda')\n",
    "            label = label.to('cuda')\n",
    "            \n",
    "            val_output = model(data)\n",
    "            val_loss   = loss_func(val_output,label)\n",
    "            \n",
    "            acc = (val_output.argmax(dim=1) == label).float().mean()\n",
    "            epoch_val_accuracy += acc / len(valid_loader)\n",
    "            epoch_val_loss += val_loss / len(valid_loader)\n",
    "    \n",
    "    print(f\"Epoch : {epoch+1} - loss : {epoch_loss:.4f} - acc: {epoch_accuracy:.4f} - val_loss : {epoch_val_loss:.4f} - val_acc: {epoch_val_accuracy:.4f}\\n\")"
   ]
  }
 ],
 "metadata": {
  "kernelspec": {
   "display_name": "Python 3",
   "language": "python",
   "name": "python3"
  },
  "language_info": {
   "codemirror_mode": {
    "name": "ipython",
    "version": 3
   },
   "file_extension": ".py",
   "mimetype": "text/x-python",
   "name": "python",
   "nbconvert_exporter": "python",
   "pygments_lexer": "ipython3",
   "version": "3.7.6"
  },
  "papermill": {
   "duration": 1153.080419,
   "end_time": "2021-01-10T09:41:28.911025",
   "environment_variables": {},
   "exception": null,
   "input_path": "__notebook__.ipynb",
   "output_path": "__notebook__.ipynb",
   "parameters": {},
   "start_time": "2021-01-10T09:22:15.830606",
   "version": "2.1.0"
  }
 },
 "nbformat": 4,
 "nbformat_minor": 4
}
